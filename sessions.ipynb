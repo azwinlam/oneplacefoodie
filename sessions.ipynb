{
 "cells": [
  {
   "cell_type": "markdown",
   "metadata": {
    "colab_type": "text",
    "id": "_iD6zf6wvMPY"
   },
   "source": [
    "# Asynchronous Requests\n",
    "\n",
    "If we want to make many request, we might just use a for loop, however if we have 1000s to send this can take a long time. This is because each request has to wait until we got a response from the previous before it can be sent. \n"
   ]
  },
  {
   "cell_type": "code",
   "execution_count": 63,
   "metadata": {
    "colab": {
     "base_uri": "https://localhost:8080/",
     "height": 300
    },
    "colab_type": "code",
    "executionInfo": {
     "elapsed": 1011,
     "status": "error",
     "timestamp": 1597304383115,
     "user": {
      "displayName": "KING CHAK HO",
      "photoUrl": "",
      "userId": "01684497642639073245"
     },
     "user_tz": -480
    },
    "id": "pszySD_qvMPa",
    "outputId": "95d12750-e8a2-453f-cbb2-b848daf54a04"
   },
   "outputs": [],
   "source": [
    "from requests_futures.sessions import FuturesSession\n",
    "from bs4 import BeautifulSoup\n",
    "import pandas as pd"
   ]
  },
  {
   "cell_type": "code",
   "execution_count": 64,
   "metadata": {
    "colab": {},
    "colab_type": "code",
    "id": "ZJLtYL2wvMPg"
   },
   "outputs": [],
   "source": [
    "session = FuturesSession()"
   ]
  },
  {
   "cell_type": "markdown",
   "metadata": {
    "colab_type": "text",
    "id": "Qoi29Ez1vMPr"
   },
   "source": [
    "# Making Requests\n",
    "\n",
    "Let's write a function that will take a session and and address and make a request for us."
   ]
  },
  {
   "cell_type": "code",
   "execution_count": 65,
   "metadata": {
    "colab": {},
    "colab_type": "code",
    "id": "97L6lJ6mvMPs"
   },
   "outputs": [],
   "source": [
    "import numpy as np\n",
    "import pandas as pd"
   ]
  },
  {
   "cell_type": "code",
   "execution_count": 74,
   "metadata": {
    "colab": {},
    "colab_type": "code",
    "id": "IUg-dlPdvMPu"
   },
   "outputs": [],
   "source": [
    "def make_request(session, url):\n",
    "    future = session.get(url,headers= {'User-Agent': 'Mozilla/5.0'})\n",
    "    return future"
   ]
  },
  {
   "cell_type": "markdown",
   "metadata": {
    "colab_type": "text",
    "id": "O-PlsfcWvMPv"
   },
   "source": [
    "Since the API is quite slow this will take sometime, therefore below is a function that prints the percentage progress."
   ]
  },
  {
   "cell_type": "code",
   "execution_count": 75,
   "metadata": {
    "colab": {},
    "colab_type": "code",
    "id": "-YFe2Mx-vMPw"
   },
   "outputs": [],
   "source": [
    "import time,sys\n",
    "\n",
    "def print_progress(futures):\n",
    "\n",
    "    check_done = lambda x: x.done()\n",
    "    check_done = np.vectorize(check_done)\n",
    "\n",
    "    #basic percentage progress\n",
    "    while not check_done(futures).all():\n",
    "        time.sleep(1)\n",
    "        percent = check_done(futures).mean() * 100\n",
    "        sys.stdout.write(\"\\r%d%%\" % percent)\n",
    "        sys.stdout.flush()    \n",
    "    print(\"\\n\")\n"
   ]
  },
  {
   "cell_type": "markdown",
   "metadata": {
    "colab_type": "text",
    "id": "Vm6i59tZvMPy"
   },
   "source": [
    "We can now read in the open rice csv and make a request for each unique address"
   ]
  },
  {
   "cell_type": "code",
   "execution_count": 24,
   "metadata": {
    "colab": {},
    "colab_type": "code",
    "id": "t3DY3UFXvMPy",
    "outputId": "81ab6b44-8c0b-4969-a214-9d10548e71ce"
   },
   "outputs": [
    {
     "data": {
      "text/plain": [
       "27454"
      ]
     },
     "execution_count": 24,
     "metadata": {},
     "output_type": "execute_result"
    }
   ],
   "source": [
    "with open(\"master_url.txt\", \"r\") as f:\n",
    "    masterurllist = [i.strip() for i in f.readlines()]\n",
    "    \n",
    "test = masterurllist\n",
    "len(test)"
   ]
  },
  {
   "cell_type": "code",
   "execution_count": 89,
   "metadata": {
    "colab": {},
    "colab_type": "code",
    "id": "npW4yRmivMP1",
    "outputId": "d79a0335-9272-40ef-df58-dfaf793654d4"
   },
   "outputs": [
    {
     "name": "stdout",
     "output_type": "stream",
     "text": [
      "100%\n",
      "\n",
      "[<Future at 0x213c295e0d0 state=finished returned Response>\n",
      " <Future at 0x213c2724760 state=finished returned Response>\n",
      " <Future at 0x213c31621c0 state=finished returned Response> ...\n",
      " <Future at 0x213cb188c40 state=finished returned Response>\n",
      " <Future at 0x213cb188d90 state=finished returned Response>\n",
      " <Future at 0x213cb188ee0 state=finished returned Response>]\n",
      "Wall time: 17min 16s\n"
     ]
    }
   ],
   "source": [
    "%%time\n",
    "#create session with 16 workers\n",
    "session = FuturesSession(max_workers=32)\n",
    "#make all of the requests\n",
    "futures =   np.array([make_request(session,url) for url in test]) \n",
    "print_progress(futures)\n",
    "print(futures)"
   ]
  },
  {
   "cell_type": "markdown",
   "metadata": {
    "colab_type": "text",
    "id": "0BPgSszDvMP2"
   },
   "source": [
    "It took nearly 40 minutes even with async requests."
   ]
  },
  {
   "cell_type": "markdown",
   "metadata": {
    "colab_type": "text",
    "id": "QYSJf7RZvMP3"
   },
   "source": [
    "## Parsing Response\n",
    "\n",
    "Now all of the requests have been made we can parse them to get the json."
   ]
  },
  {
   "cell_type": "code",
   "execution_count": 90,
   "metadata": {
    "colab": {},
    "colab_type": "code",
    "id": "bCetQ9_ovMP3"
   },
   "outputs": [],
   "source": [
    "results = [future.result().text for future in futures]"
   ]
  },
  {
   "cell_type": "code",
   "execution_count": null,
   "metadata": {},
   "outputs": [],
   "source": [
    "import json\n",
    "\n",
    "save_r = [json.dumps(i) for i in results]\n",
    "save_r = json.dumps(save_r)\n",
    "\n",
    "with open(\"save_results.json\",\"w\") as f:\n",
    "    f.write(save_r)"
   ]
  },
  {
   "cell_type": "code",
   "execution_count": null,
   "metadata": {
    "colab": {},
    "colab_type": "code",
    "id": "4fua9QmAvMP4",
    "outputId": "476b61ad-d1d4-4ed2-fea7-eb59be4b8a62"
   },
   "outputs": [],
   "source": [
    "openrice_page = []\n",
    "\n",
    "for page in results:\n",
    "    soup = BeautifulSoup(page, 'html.parser')\n",
    "    try:\n",
    "        name = soup.find(\"h1\").find(\"span\").text\n",
    "    except:\n",
    "        name = None\n",
    "\n",
    "    try:\n",
    "        name2 = soup.find(\"div\", class_=\"smaller-font-name\").text\n",
    "    except:\n",
    "        name2 = None\n",
    "\n",
    "    try:\n",
    "        stars = soup.find(\"div\", class_=\"header-score-details-left-score\").text.strip()\n",
    "    except:\n",
    "        stars = None\n",
    "\n",
    "    try:\n",
    "        review_count = soup.find(\"span\", itemprop=\"reviewCount\").text.strip()\n",
    "    except:\n",
    "        review_count = None\n",
    "\n",
    "    try:\n",
    "        bookmarks = soup.find(\"div\", class_=\"header-bookmark-count js-header-bookmark-count\").text.strip()\n",
    "    except:\n",
    "        bookmarks = None\n",
    "\n",
    "    try:\n",
    "        district = soup.find(\"div\", class_=\"header-poi-district dot-separator\").text.strip()\n",
    "    except:\n",
    "        district = None\n",
    "\n",
    "    try:\n",
    "        price_range = soup.find(\"div\", itemprop=\"priceRange\").text.strip()\n",
    "    except:\n",
    "        price_range = None\n",
    "\n",
    "    try:\n",
    "        food_type = soup.find(\"div\", class_=\"header-poi-categories dot-separator\").text.strip()\n",
    "    except:\n",
    "        food_type = None\n",
    "\n",
    "    try:\n",
    "        emoji = soup.find(\"div\", class_=\"header-smile-section\").text.strip().split(\"\\n\\n\")\n",
    "    except:\n",
    "        emoji = None\n",
    "\n",
    "    try:\n",
    "        address_ch = soup.find(\"section\", class_=\"address-section\").find_all(\"div\", class_=\"content\")[0].find(\"a\").text.strip()\n",
    "    except:\n",
    "        address_ch = None\n",
    "\n",
    "    try:\n",
    "        address_en = soup.find(\"section\", class_=\"address-section\").find_all(\"div\", class_=\"content\")[1].find(\"a\").text.strip()\n",
    "    except:\n",
    "        address_en = None\n",
    "\n",
    "    try:\n",
    "        transport = soup.find(\"section\", class_=\"transport-section\").find(\"div\", class_=\"content js-text-wrapper\").text.strip()\n",
    "    except:\n",
    "        transport = None\n",
    "\n",
    "    try:\n",
    "        telephone = soup.find(\"section\", class_=\"telephone-section\").find(\"div\", class_=\"content\").text.strip()\n",
    "    except:\n",
    "        telephone = None\n",
    "\n",
    "    try:\n",
    "        introduction = soup.find(\"section\", class_=\"introduction-section\").find(\"div\", class_=\"content js-text-wrapper\").text.strip().replace(\"\\r\",\"\").replace(\"\\n\",\"\")\n",
    "    except:\n",
    "        introduction = None\n",
    "\n",
    "    try:\n",
    "        open_hours = soup.find(\"div\", class_=\"opening-hours-section js-normal-and-special-opening-hours-section\").text.replace(\"\\n\",\"\")\n",
    "    except:\n",
    "        open_hours = None\n",
    "\n",
    "    try:\n",
    "        payment = soup.find(\"div\", class_=\"comma-tags\").text.strip()\n",
    "    except:\n",
    "        payment = None\n",
    "\n",
    "    try:\n",
    "        review = [i.text.strip() for i in soup.find_all(\"div\", class_=\"text js-text\")]\n",
    "    except:\n",
    "        review = None\n",
    "\n",
    "    openrice_page.append({\"Name\" : name,\n",
    "    \"Name2\" : name2,\n",
    "    \"Stars\" : stars,\n",
    "    \"Review_count\" : review_count,\n",
    "    \"Bookmarks\" : bookmarks,\n",
    "    \"District\" : district,\n",
    "    \"Price_range\" : price_range,\n",
    "    \"Food_type\" : food_type,\n",
    "    \"Emoji\" : emoji,\n",
    "    \"Address_ch\" : address_ch,\n",
    "    \"Address_en\" : address_en,\n",
    "    \"Transport\" : transport,\n",
    "    \"Telephone\" : telephone,\n",
    "    \"Intro\" : introduction,\n",
    "    \"Openhours\" : open_hours,\n",
    "    \"Payment\" : payment,\n",
    "    \"Review\" : review,\n",
    "    })\n",
    "\n",
    "df = pd.DataFrame(openrice_page)\n",
    "df.to_csv(\"openrice2021.csv\",mode='w', header=True, index=False)\t\n",
    "    "
   ]
  },
  {
   "cell_type": "markdown",
   "metadata": {
    "colab_type": "text",
    "id": "FCEAbWQrvMP5"
   },
   "source": [
    "We'll write this json to disk for future use."
   ]
  },
  {
   "cell_type": "code",
   "execution_count": 80,
   "metadata": {
    "colab": {},
    "colab_type": "code",
    "id": "kL1ki6KgvMP5"
   },
   "outputs": [
    {
     "data": {
      "text/html": [
       "<div>\n",
       "<style scoped>\n",
       "    .dataframe tbody tr th:only-of-type {\n",
       "        vertical-align: middle;\n",
       "    }\n",
       "\n",
       "    .dataframe tbody tr th {\n",
       "        vertical-align: top;\n",
       "    }\n",
       "\n",
       "    .dataframe thead th {\n",
       "        text-align: right;\n",
       "    }\n",
       "</style>\n",
       "<table border=\"1\" class=\"dataframe\">\n",
       "  <thead>\n",
       "    <tr style=\"text-align: right;\">\n",
       "      <th></th>\n",
       "      <th>Name</th>\n",
       "      <th>Name2</th>\n",
       "      <th>Stars</th>\n",
       "      <th>Review_count</th>\n",
       "      <th>Bookmarks</th>\n",
       "      <th>District</th>\n",
       "      <th>Price_range</th>\n",
       "      <th>Food_type</th>\n",
       "      <th>Emoji</th>\n",
       "      <th>Address_ch</th>\n",
       "      <th>Address_en</th>\n",
       "      <th>Transport</th>\n",
       "      <th>Telephone</th>\n",
       "      <th>Intro</th>\n",
       "      <th>Openhours</th>\n",
       "      <th>Payment</th>\n",
       "      <th>Review</th>\n",
       "    </tr>\n",
       "  </thead>\n",
       "  <tbody>\n",
       "    <tr>\n",
       "      <th>0</th>\n",
       "      <td>肯德基家鄉雞 (KFC)</td>\n",
       "      <td>Kentucky Fried Chicken</td>\n",
       "      <td>3.5</td>\n",
       "      <td>7</td>\n",
       "      <td>140</td>\n",
       "      <td>大埔</td>\n",
       "      <td>$50以下</td>\n",
       "      <td>美國菜\\n快餐店</td>\n",
       "      <td>[0, 1, 0]</td>\n",
       "      <td>大埔安邦路9號大埔超級城C區地下501-504號舖</td>\n",
       "      <td>Shop 501-504, G/F, Tai Po Mega Mall Zone C, 9 ...</td>\n",
       "      <td>None</td>\n",
       "      <td>26676643</td>\n",
       "      <td>None</td>\n",
       "      <td>星期一至日07:30 - 22:00</td>\n",
       "      <td>Visa\\nMaster\\n現金\\n八達通\\nAE\\n銀聯\\nApple Pay\\nGoog...</td>\n",
       "      <td>[18:00左右用手機APP點完餐，選擇了「立即」送餐。原本以為等一個小時便會送到。怎知等了...</td>\n",
       "    </tr>\n",
       "    <tr>\n",
       "      <th>1</th>\n",
       "      <td>太平洋咖啡</td>\n",
       "      <td>Pacific Coffee</td>\n",
       "      <td>None</td>\n",
       "      <td>None</td>\n",
       "      <td>21</td>\n",
       "      <td>愉景灣</td>\n",
       "      <td>$50以下</td>\n",
       "      <td>美國菜\\n沙律\\n西式糕點 \\n咖啡店</td>\n",
       "      <td>[0, 0, 0]</td>\n",
       "      <td>愉景灣愉景灣碼頭2號舖</td>\n",
       "      <td>Shop 02, Discovery Bay Pier, Discovery Bay</td>\n",
       "      <td>None</td>\n",
       "      <td>29141128</td>\n",
       "      <td>None</td>\n",
       "      <td>星期一至六06:00 - 22:00星期日07:30 - 22:00公眾假期07:30 - ...</td>\n",
       "      <td>Visa\\nMaster\\n現金\\n八達通\\nAE\\n銀聯\\nApple Pay\\nGoog...</td>\n",
       "      <td>[]</td>\n",
       "    </tr>\n",
       "  </tbody>\n",
       "</table>\n",
       "</div>"
      ],
      "text/plain": [
       "           Name                   Name2 Stars Review_count Bookmarks District  \\\n",
       "0  肯德基家鄉雞 (KFC)  Kentucky Fried Chicken   3.5            7       140       大埔   \n",
       "1         太平洋咖啡          Pacific Coffee  None         None        21      愉景灣   \n",
       "\n",
       "  Price_range            Food_type      Emoji                 Address_ch  \\\n",
       "0       $50以下             美國菜\\n快餐店  [0, 1, 0]  大埔安邦路9號大埔超級城C區地下501-504號舖   \n",
       "1       $50以下  美國菜\\n沙律\\n西式糕點 \\n咖啡店  [0, 0, 0]                愉景灣愉景灣碼頭2號舖   \n",
       "\n",
       "                                          Address_en Transport Telephone  \\\n",
       "0  Shop 501-504, G/F, Tai Po Mega Mall Zone C, 9 ...      None  26676643   \n",
       "1         Shop 02, Discovery Bay Pier, Discovery Bay      None  29141128   \n",
       "\n",
       "  Intro                                          Openhours  \\\n",
       "0  None                                 星期一至日07:30 - 22:00   \n",
       "1  None  星期一至六06:00 - 22:00星期日07:30 - 22:00公眾假期07:30 - ...   \n",
       "\n",
       "                                             Payment  \\\n",
       "0  Visa\\nMaster\\n現金\\n八達通\\nAE\\n銀聯\\nApple Pay\\nGoog...   \n",
       "1  Visa\\nMaster\\n現金\\n八達通\\nAE\\n銀聯\\nApple Pay\\nGoog...   \n",
       "\n",
       "                                              Review  \n",
       "0  [18:00左右用手機APP點完餐，選擇了「立即」送餐。原本以為等一個小時便會送到。怎知等了...  \n",
       "1                                                 []  "
      ]
     },
     "execution_count": 80,
     "metadata": {},
     "output_type": "execute_result"
    }
   ],
   "source": [
    "df"
   ]
  },
  {
   "cell_type": "code",
   "execution_count": 26,
   "metadata": {},
   "outputs": [
    {
     "data": {
      "text/plain": [
       "'C:\\\\Users\\\\azwin\\\\Xccelerate\\\\FTDS\\\\01Foundation\\\\11-requests-and-APIs\\\\notebooks'"
      ]
     },
     "execution_count": 26,
     "metadata": {},
     "output_type": "execute_result"
    }
   ],
   "source": []
  },
  {
   "cell_type": "code",
   "execution_count": null,
   "metadata": {},
   "outputs": [],
   "source": []
  }
 ],
 "metadata": {
  "colab": {
   "collapsed_sections": [],
   "name": "03-async-requests.ipynb",
   "provenance": []
  },
  "kernelspec": {
   "display_name": "Python 3",
   "language": "python",
   "name": "python3"
  },
  "language_info": {
   "codemirror_mode": {
    "name": "ipython",
    "version": 3
   },
   "file_extension": ".py",
   "mimetype": "text/x-python",
   "name": "python",
   "nbconvert_exporter": "python",
   "pygments_lexer": "ipython3",
   "version": "3.8.3"
  }
 },
 "nbformat": 4,
 "nbformat_minor": 4
}
